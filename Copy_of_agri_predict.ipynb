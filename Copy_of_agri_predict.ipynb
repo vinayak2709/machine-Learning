{
  "nbformat": 4,
  "nbformat_minor": 0,
  "metadata": {
    "colab": {
      "name": "Copy of agri_predict.ipynb",
      "provenance": [],
      "authorship_tag": "ABX9TyMcd+HJrhj3yr9boBLG9LNj",
      "include_colab_link": true
    },
    "kernelspec": {
      "name": "python3",
      "display_name": "Python 3"
    }
  },
  "cells": [
    {
      "cell_type": "markdown",
      "metadata": {
        "id": "view-in-github",
        "colab_type": "text"
      },
      "source": [
        "<a href=\"https://colab.research.google.com/github/vinayak2709/machine-Learning/blob/master/Copy_of_agri_predict.ipynb\" target=\"_parent\"><img src=\"https://colab.research.google.com/assets/colab-badge.svg\" alt=\"Open In Colab\"/></a>"
      ]
    },
    {
      "cell_type": "code",
      "metadata": {
        "id": "kDlKdJ0VhJLP",
        "colab_type": "code",
        "outputId": "66f101a1-4267-4753-9520-4ccfe55b158a",
        "colab": {
          "base_uri": "https://localhost:8080/",
          "height": 72
        }
      },
      "source": [
        "import pandas as pd \n",
        "import numpy as np\n",
        "import seaborn as sns #visualisation\n",
        "import matplotlib.pyplot as plt #visualisation\n",
        "%matplotlib inline \n",
        "sns.set(color_codes=True)\n",
        "# Loading the CSV file into a pandas dataframe.\n",
        "# df = pd.read_csv(\"/content/agri_data_vishal.xlsx\")\n",
        "data= pd.read_excel(\"/content/agri_data_vishal_2.xlsx\")\n",
        "# print(df)\n",
        "data.describe()          #count,std deviation,max,min..all stats rowswise is done\n",
        "# df.head(15)\n",
        "\n",
        "from sklearn import linear_model\n",
        "linear_model.Lasso(alpha=0.15)"
      ],
      "execution_count": 105,
      "outputs": [
        {
          "output_type": "execute_result",
          "data": {
            "text/plain": [
              "Lasso(alpha=0.15, copy_X=True, fit_intercept=True, max_iter=1000,\n",
              "      normalize=False, positive=False, precompute=False, random_state=None,\n",
              "      selection='cyclic', tol=0.0001, warm_start=False)"
            ]
          },
          "metadata": {
            "tags": []
          },
          "execution_count": 105
        }
      ]
    },
    {
      "cell_type": "code",
      "metadata": {
        "id": "HQpFz9wFl1HA",
        "colab_type": "code",
        "colab": {}
      },
      "source": [
        "from sklearn import linear_model\n",
        "from sklearn.model_selection import train_test_split\n",
        "from sklearn.linear_model import LinearRegression\n",
        "from sklearn.ensemble import RandomForestRegressor\n",
        "from sklearn.metrics import mean_absolute_error\n",
        "from sklearn.metrics import mean_squared_error\n",
        "from sklearn.metrics import r2_score\n",
        "# Creating the Lasso Regression Model\n"
      ],
      "execution_count": 0,
      "outputs": []
    },
    {
      "cell_type": "code",
      "metadata": {
        "id": "rGOjzgO7l9vv",
        "colab_type": "code",
        "colab": {}
      },
      "source": [
        "X = data.drop('TOTAL YIELD p.a.', axis=1)\n",
        "y = data['TOTAL YIELD p.a.']\n",
        "# X = X.to_numpy()\n",
        "# f2 = np.vectorize(np.int)\n",
        "\n",
        "# print(X.astype(int))\n",
        "\n",
        "# X.ndim\n",
        "# y = y.to_numpy()\n",
        "# print(X[1])\n",
        "# y.ndim\n"
      ],
      "execution_count": 0,
      "outputs": []
    },
    {
      "cell_type": "code",
      "metadata": {
        "id": "40b48qwEm_B6",
        "colab_type": "code",
        "outputId": "b6bfadcf-5bdf-4a8d-a986-7e856e3c0a05",
        "colab": {
          "base_uri": "https://localhost:8080/",
          "height": 72
        }
      },
      "source": [
        "X_train, X_test, y_train, y_test = train_test_split(X, y, test_size=0.1, random_state=42)\n",
        "# print(X.mean())\n",
        "# print(X_train, X_test, y_train, y_test)\n",
        "# print(X.shape ,X_train.shape, X_test.shape)\n",
        "# print(y.shape ,y_train.shape, y_test.shape)\n",
        "# print(y.mean(),y_train.mean(),y_test.mean())\n",
        "# print(X.mean(),\"\\n\\n\\n\",X_train.mean(),\"\\n\\n\\n\",X_test.mean()) #now lets see all means of X\n",
        "print(X.shape ,y_test.shape, X_test.shape)\n",
        "\n",
        "print(type(X_train))\n",
        "# X_train=X_train.values\n",
        "# y_train=y_train.values\n",
        "# X_test=X_test.values\n",
        "# y_test=y_test.values\n",
        "print(type(X_train),type(y_train))\n",
        "\n",
        "\n"
      ],
      "execution_count": 108,
      "outputs": [
        {
          "output_type": "stream",
          "text": [
            "(766, 6) (77,) (77, 6)\n",
            "<class 'pandas.core.frame.DataFrame'>\n",
            "<class 'pandas.core.frame.DataFrame'> <class 'pandas.core.series.Series'>\n"
          ],
          "name": "stdout"
        }
      ]
    },
    {
      "cell_type": "code",
      "metadata": {
        "id": "ovEErz7a-i9N",
        "colab_type": "code",
        "outputId": "ea6a9509-f74d-4abc-c1f4-b165ef562b35",
        "colab": {
          "base_uri": "https://localhost:8080/",
          "height": 892
        }
      },
      "source": [
        "from sklearn import svm\n",
        "from sklearn.metrics import classification_report\n",
        "\n",
        "model = svm.SVC(kernel='linear',max_iter=5000)\n",
        "model.fit(X_train,y_train)\n",
        "y_pred = model.predict(X_test)\n",
        "accurary = model.score(X_test,y_test)\n",
        "print(\"acc\",accurary)\n",
        "report = classification_report(y_test,y_pred)\n",
        "window_length=450\n",
        "\n",
        "\n",
        "print('The Accurary of %s : %f'%('linear',model.score(X_test,y_test)))\n",
        "print(report)\n",
        "\n",
        "# window_lengths = [7,14,21,30,60,90,120,150,180]\n",
        "# accurarys = {}\n",
        "# reports ={}\n",
        "\n",
        "# for l in window_lengths:\n",
        "#     print('window_length:',l)\n",
        "#     train_and_test(msft_prices,l,accurarys,reports)\n",
        "\n",
        "print(\"The R2 square value ofRandom Forest Regressor algorithm is :\", r2_score(y_test, y_pred)*100)\n"
      ],
      "execution_count": 109,
      "outputs": [
        {
          "output_type": "stream",
          "text": [
            "acc 0.16883116883116883\n",
            "The Accurary of linear : 0.168831\n",
            "              precision    recall  f1-score   support\n",
            "\n",
            "           4       0.00      0.00      0.00         2\n",
            "           5       0.50      0.33      0.40         3\n",
            "           6       0.00      0.00      0.00         2\n",
            "           7       0.38      1.00      0.56         5\n",
            "           8       0.33      0.25      0.29         4\n",
            "          10       0.25      0.17      0.20         6\n",
            "          12       0.17      0.40      0.24         5\n",
            "          13       0.00      0.00      0.00         1\n",
            "          14       0.00      0.00      0.00         1\n",
            "          15       0.11      0.20      0.14         5\n",
            "          18       0.00      0.00      0.00         7\n",
            "          20       0.00      0.00      0.00         7\n",
            "          22       0.00      0.00      0.00         0\n",
            "          24       0.00      0.00      0.00         0\n",
            "          25       0.11      0.25      0.15         4\n",
            "          28       0.00      0.00      0.00         2\n",
            "          30       0.00      0.00      0.00         5\n",
            "          32       0.00      0.00      0.00         1\n",
            "          35       0.00      0.00      0.00         5\n",
            "          38       0.00      0.00      0.00         0\n",
            "          40       0.00      0.00      0.00         5\n",
            "          45       0.00      0.00      0.00         1\n",
            "          50       1.00      0.50      0.67         2\n",
            "          55       0.00      0.00      0.00         0\n",
            "          60       0.00      0.00      0.00         0\n",
            "          65       0.00      0.00      0.00         0\n",
            "          70       0.00      0.00      0.00         1\n",
            "          75       0.00      0.00      0.00         1\n",
            "          80       0.00      0.00      0.00         0\n",
            "          90       0.00      0.00      0.00         1\n",
            "         100       0.00      0.00      0.00         1\n",
            "\n",
            "    accuracy                           0.17        77\n",
            "   macro avg       0.09      0.10      0.09        77\n",
            "weighted avg       0.13      0.17      0.13        77\n",
            "\n",
            "The R2 square value ofRandom Forest Regressor algorithm is : 71.73224983618833\n"
          ],
          "name": "stdout"
        },
        {
          "output_type": "stream",
          "text": [
            "/usr/local/lib/python3.6/dist-packages/sklearn/svm/_base.py:231: ConvergenceWarning: Solver terminated early (max_iter=5000).  Consider pre-processing your data with StandardScaler or MinMaxScaler.\n",
            "  % self.max_iter, ConvergenceWarning)\n",
            "/usr/local/lib/python3.6/dist-packages/sklearn/metrics/_classification.py:1272: UndefinedMetricWarning: Precision and F-score are ill-defined and being set to 0.0 in labels with no predicted samples. Use `zero_division` parameter to control this behavior.\n",
            "  _warn_prf(average, modifier, msg_start, len(result))\n",
            "/usr/local/lib/python3.6/dist-packages/sklearn/metrics/_classification.py:1272: UndefinedMetricWarning: Recall and F-score are ill-defined and being set to 0.0 in labels with no true samples. Use `zero_division` parameter to control this behavior.\n",
            "  _warn_prf(average, modifier, msg_start, len(result))\n"
          ],
          "name": "stderr"
        }
      ]
    },
    {
      "cell_type": "markdown",
      "metadata": {
        "id": "ka-2BJw6-fBH",
        "colab_type": "text"
      },
      "source": [
        "random forrest"
      ]
    },
    {
      "cell_type": "code",
      "metadata": {
        "id": "odRcq09I5c_T",
        "colab_type": "code",
        "outputId": "80491861-c3c5-43f1-f68a-acb63ad54acf",
        "colab": {
          "base_uri": "https://localhost:8080/",
          "height": 428
        }
      },
      "source": [
        "# model = RandomForestRegressor('bootstrap'= True,\n",
        "#  'max_depth'= 70,\n",
        "#  'max_features'= 'auto',\n",
        "#  'min_samples_leaf'= 4,\n",
        "#  'min_samples_split'= 10,\n",
        "#  'n_estimators'= 400)\n",
        "\n",
        "\n",
        "# model=RandomForestRegressor()\n",
        "model=RandomForestRegressor(bootstrap= True,min_samples_split= 36,n_estimators = 1000,min_samples_leaf= 1, random_state =43)\n",
        "\n",
        "model.fit(X_train, y_train)\n",
        "y_pred = model.predict(X_test)\n",
        "\n",
        "print(\"The R2 square value ofRandom Forest Regressor algorithm is :\", r2_score(y_test, y_pred)*100)\n",
        "plt.figure(figsize= (6, 6))\n",
        "plt.title('Visualizing the using Random Forest Regressor algorithm')\n",
        "sns.regplot(y_pred, y_test, color = 'red')\n",
        "plt.xlabel('New Predicted ')\n",
        "plt.ylabel(\"original \")\n",
        "plt.show()"
      ],
      "execution_count": 110,
      "outputs": [
        {
          "output_type": "stream",
          "text": [
            "The R2 square value ofRandom Forest Regressor algorithm is : 90.35233023060736\n"
          ],
          "name": "stdout"
        },
        {
          "output_type": "display_data",
          "data": {
            "image/png": "[encoded data removed]",
            "text/plain": [
              "<Figure size 432x432 with 1 Axes>"
            ]
          },
          "metadata": {
            "tags": []
          }
        }
      ]
    },
    {
      "cell_type": "markdown",
      "metadata": {
        "id": "VfZMzHs75Zd7",
        "colab_type": "text"
      },
      "source": [
        "knn\n",
        "\n",
        "\n"
      ]
    },
    {
      "cell_type": "code",
      "metadata": {
        "id": "HEFEKmwD4y6d",
        "colab_type": "code",
        "outputId": "96f0980b-b21d-4ee8-9f75-810be6a01e42",
        "colab": {
          "base_uri": "https://localhost:8080/",
          "height": 244
        }
      },
      "source": [
        "from sklearn.neighbors import KNeighborsClassifier \n",
        "knn = KNeighborsClassifier(n_neighbors=3) \n",
        "knn.fit(X_train, y_train) \n",
        "\n",
        "# making predictions on the testing set \n",
        "y_pred = knn.predict(X_test) \n",
        "\n",
        "print(\"The R2 square value of knn algorithm is :\", r2_score(y_test, y_pred)*100)\n",
        "plt.figure(figsize= (6, 6))\n",
        "plt.title('Visualizing the using knn algorithm')\n",
        "sns.regplot(y_pred, y_test, color = 'red')\n",
        "plt.xlabel('New Predicted ')\n",
        "plt.ylabel(\"original \")\n",
        "plt.show()\n"
      ],
      "execution_count": 111,
      "outputs": [
        {
          "output_type": "error",
          "ename": "NameError",
          "evalue": "ignored",
          "traceback": [
            "\u001b[0;31m---------------------------------------------------------------------------\u001b[0m",
            "\u001b[0;31mNameError\u001b[0m                                 Traceback (most recent call last)",
            "\u001b[0;32m<ipython-input-111-3d9f14f34743>\u001b[0m in \u001b[0;36m<module>\u001b[0;34m()\u001b[0m\n\u001b[1;32m      5\u001b[0m \u001b[0;31m# making predictions on the testing set\u001b[0m\u001b[0;34m\u001b[0m\u001b[0;34m\u001b[0m\u001b[0;34m\u001b[0m\u001b[0m\n\u001b[1;32m      6\u001b[0m \u001b[0my_pred\u001b[0m \u001b[0;34m=\u001b[0m \u001b[0mknn\u001b[0m\u001b[0;34m.\u001b[0m\u001b[0mpredict\u001b[0m\u001b[0;34m(\u001b[0m\u001b[0mX_test\u001b[0m\u001b[0;34m)\u001b[0m\u001b[0;34m\u001b[0m\u001b[0;34m\u001b[0m\u001b[0m\n\u001b[0;32m----> 7\u001b[0;31m \u001b[0mprint\u001b[0m\u001b[0;34m(\u001b[0m\u001b[0mmetrics\u001b[0m\u001b[0;34m.\u001b[0m\u001b[0maccuracy_score\u001b[0m\u001b[0;34m(\u001b[0m\u001b[0my_test\u001b[0m\u001b[0;34m,\u001b[0m \u001b[0my_pred\u001b[0m\u001b[0;34m)\u001b[0m\u001b[0;34m)\u001b[0m\u001b[0;34m\u001b[0m\u001b[0;34m\u001b[0m\u001b[0m\n\u001b[0m\u001b[1;32m      8\u001b[0m \u001b[0;34m\u001b[0m\u001b[0m\n\u001b[1;32m      9\u001b[0m \u001b[0mprint\u001b[0m\u001b[0;34m(\u001b[0m\u001b[0;34m\"The R2 square value of knn algorithm is :\"\u001b[0m\u001b[0;34m,\u001b[0m \u001b[0mr2_score\u001b[0m\u001b[0;34m(\u001b[0m\u001b[0my_test\u001b[0m\u001b[0;34m,\u001b[0m \u001b[0my_pred\u001b[0m\u001b[0;34m)\u001b[0m\u001b[0;34m*\u001b[0m\u001b[0;36m100\u001b[0m\u001b[0;34m)\u001b[0m\u001b[0;34m\u001b[0m\u001b[0;34m\u001b[0m\u001b[0m\n",
            "\u001b[0;31mNameError\u001b[0m: name 'metrics' is not defined"
          ]
        }
      ]
    },
    {
      "cell_type": "markdown",
      "metadata": {
        "id": "M0ThFDj34rDD",
        "colab_type": "text"
      },
      "source": [
        "lasso linear"
      ]
    },
    {
      "cell_type": "code",
      "metadata": {
        "id": "TRJ_bexdnRe4",
        "colab_type": "code",
        "outputId": "314ce0ea-1a47-4eab-f2c0-cf5c4e28f58b",
        "colab": {
          "base_uri": "https://localhost:8080/",
          "height": 428
        }
      },
      "source": [
        "reg = linear_model.Lasso(alpha=3.9)\n",
        "\n",
        "reg.fit(X_train, y_train)\n",
        "y_pred = reg.predict(X_test)\n",
        "\n",
        "print(\"The R2 square value of lasso regressor algorithm is :\", r2_score(y_test, y_pred)*100)\n",
        "plt.figure(figsize= (6, 6))\n",
        "plt.title('Visualizing the using lasso algorithm')\n",
        "sns.regplot(y_pred, y_test, color = 'red')\n",
        "plt.xlabel('New Predicted ')\n",
        "plt.ylabel(\"original \")\n",
        "plt.show()"
      ],
      "execution_count": 162,
      "outputs": [
        {
          "output_type": "stream",
          "text": [
            "The R2 square value of lasso regressor algorithm is : 90.71054359511777\n"
          ],
          "name": "stdout"
        },
        {
          "output_type": "display_data",
          "data": {
            "image/png": "[encoded data removed]",
            "text/plain": [
              "<Figure size 432x432 with 1 Axes>"
            ]
          },
          "metadata": {
            "tags": []
          }
        }
      ]
    },
    {
      "cell_type": "markdown",
      "metadata": {
        "id": "8Pf04fSaDzjo",
        "colab_type": "text"
      },
      "source": [
        "linear reggressor"
      ]
    },
    {
      "cell_type": "code",
      "metadata": {
        "id": "5q1KrglZD470",
        "colab_type": "code",
        "colab": {}
      },
      "source": [
        "model= linear_model.LinearRegression()\n",
        "model.fit(X_train, y_train)\n",
        "pred = model.predict(X_test)\n",
        "print(\"The R2 square value of linear regressor algorithm is :\", r2_score(y_test, y_pred)*100)\n",
        "plt.figure(figsize= (6, 6))\n",
        "plt.title('Visualizing the using linear reg algorithm')\n",
        "sns.regplot(y_pred, y_test, color = 'red')\n",
        "plt.xlabel('New Predicted ')\n",
        "plt.ylabel(\"original \")\n",
        "plt.show()"
      ],
      "execution_count": 0,
      "outputs": []
    },
    {
      "cell_type": "code",
      "metadata": {
        "id": "UIQwwJzPm-_o",
        "colab_type": "code",
        "colab": {}
      },
      "source": [
        "# pred[1:5]\n",
        "from sklearn import metrics \n",
        "# print(\"model accuracy:\", metrics.accuracy_score(y_test, y_pred)) \n",
        "\n",
        "print(y.shape ,y_train.shape, y_test.shape,y_pred.shape)\n",
        "\n"
      ],
      "execution_count": 0,
      "outputs": []
    },
    {
      "cell_type": "code",
      "metadata": {
        "id": "FZVLt69fZZnd",
        "colab_type": "code",
        "colab": {}
      },
      "source": [
        "# load the iris dataset as an example \n",
        "from sklearn.datasets import load_iris \n",
        "iris = load_iris() \n",
        "\n",
        "# store the feature matrix (X) and response vector (y) \n",
        "X = iris.data\n",
        "print(X)\n",
        "y = iris.target \n",
        "\n",
        "# splitting X and y into training and testing sets \n",
        "from sklearn.model_selection import train_test_split \n",
        "X_train, X_test, y_train, y_test = train_test_split(X, y, test_size=0.2, random_state=1) \n",
        "\n",
        "# training the model on training set \n",
        "from sklearn.neighbors import KNeighborsClassifier \n",
        "knn = KNeighborsClassifier(n_neighbors=3) \n",
        "knn.fit(X_train, y_train) \n",
        "\n",
        "# making predictions on the testing set \n",
        "y_pred = knn.predict(X_test) \n",
        "\n",
        "# comparing actual response values (y_test) with predicted response values (y_pred) \n",
        "from sklearn import metrics \n",
        "print(\"kNN model accuracy:\", metrics.accuracy_score(y_test, y_pred)) \n",
        "\n",
        "# making prediction for out of sample data \n",
        "sample = [[3, 5, 4, 2], [2, 3, 5, 4]] \n",
        "preds = knn.predict(sample) \n",
        "pred_species = [iris.target_names[p] for p in preds] \n",
        "print(\"Predictions:\", pred_species) \n",
        "\n",
        "# saving the model \n",
        "from sklearn.externals import joblib \n",
        "joblib.dump(knn, 'iris_knn.pkl')\n"
      ],
      "execution_count": 0,
      "outputs": []
    }
  ]
}