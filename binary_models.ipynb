{
  "nbformat": 4,
  "nbformat_minor": 0,
  "metadata": {
    "kernelspec": {
      "display_name": "Python 2",
      "language": "python",
      "name": "python2"
    },
    "language_info": {
      "codemirror_mode": {
        "name": "ipython",
        "version": 2
      },
      "file_extension": ".py",
      "mimetype": "text/x-python",
      "name": "python",
      "nbconvert_exporter": "python",
      "pygments_lexer": "ipython2",
      "version": "2.7.6"
    },
    "colab": {
      "name": "binary_models.ipynb",
      "provenance": [],
      "include_colab_link": true
    }
  },
  "cells": [
    {
      "cell_type": "markdown",
      "metadata": {
        "id": "view-in-github",
        "colab_type": "text"
      },
      "source": [
        "<a href=\"https://colab.research.google.com/github/vinayak2709/machine-Learning/blob/master/binary_models.ipynb\" target=\"_parent\"><img src=\"https://colab.research.google.com/assets/colab-badge.svg\" alt=\"Open In Colab\"/></a>"
      ]
    },
    {
      "cell_type": "markdown",
      "metadata": {
        "collapsed": true,
        "id": "CxQ5eu3ZVC_9",
        "colab_type": "text"
      },
      "source": [
        "Let's import everything necessary to get ready for classification:"
      ]
    },
    {
      "cell_type": "code",
      "metadata": {
        "id": "CSVfFdr_VC__",
        "colab_type": "code",
        "colab": {},
        "outputId": "02f2c793-9ff5-41fb-bdca-72ec05fbf9e6"
      },
      "source": [
        "%pylab inline\n",
        "import pandas as pd\n",
        "import numpy as np\n",
        "from sklearn import model_selection\n",
        "import matplotlib.pyplot as plt\n",
        "from sklearn.preprocessing import StandardScaler\n",
        "from sklearn.linear_model import LinearRegression\n",
        "from sklearn.linear_model import LogisticRegression\n",
        "from sklearn.metrics import accuracy_score, roc_auc_score\n",
        "from sklearn.metrics import roc_curve, precision_recall_curve\n",
        "from sklearn.ensemble import RandomForestClassifier\n",
        "from sklearn.tree import DecisionTreeClassifier\n",
        "from sklearn.ensemble import BaggingClassifier\n",
        "from sklearn.neighbors import KNeighborsClassifier\n",
        "from sklearn.ensemble import RandomForestClassifier\n",
        "import time\n",
        "\n",
        "train = pd.read_csv('train.csv')\n",
        "\n",
        "y = train.price_range\n",
        "\n",
        "y = y.replace({1: 0, 2: 1, 3: 1, 4: 1})\n",
        "\n",
        "X = train.drop('price_range', axis=1)\n",
        "\n",
        "divide_seed = np.random.randint(1, 100)\n",
        "\n",
        "X_train, X_test, y_train, y_test = model_selection.train_test_split(\n",
        "    X, y, test_size=0.3, random_state=divide_seed)\n",
        "\n",
        "scaler = StandardScaler()\n",
        "\n",
        "scaler.fit(X_train)\n",
        "X_train = scaler.transform(X_train)\n",
        "\n",
        "scaler.fit(X_test)\n",
        "X_test = scaler.transform(X_test)\n",
        "\n",
        "print(len(X_train))\n",
        "print(len(X_test))\n",
        "print(len(y_train))\n",
        "print(len(y_test))"
      ],
      "execution_count": 0,
      "outputs": [
        {
          "output_type": "stream",
          "text": [
            "Populating the interactive namespace from numpy and matplotlib\n",
            "1400\n",
            "600\n",
            "1400\n",
            "600\n"
          ],
          "name": "stdout"
        }
      ]
    },
    {
      "cell_type": "markdown",
      "metadata": {
        "id": "Qh1Cv7_QVDAH",
        "colab_type": "text"
      },
      "source": [
        "Let's start with a linear regression:"
      ]
    },
    {
      "cell_type": "code",
      "metadata": {
        "id": "OrgQCmlQVDAI",
        "colab_type": "code",
        "colab": {},
        "outputId": "571dfa12-0dd7-4549-d20d-fc4de05bce4f"
      },
      "source": [
        "lr = LinearRegression()\n",
        "\n",
        "lr.fit(X_train, y_train)\n",
        "\n",
        "prediction_lr = lr.predict(X_train)\n",
        "\n",
        "print(\"Test result:\", lr.score(X_test, y_test))\n",
        "\n",
        "print(\"Train result:\", lr.score(X_train, y_train))"
      ],
      "execution_count": 0,
      "outputs": [
        {
          "output_type": "stream",
          "text": [
            "Test result: 0.7190123344775228\n",
            "Train result: 0.7169481857045205\n"
          ],
          "name": "stdout"
        }
      ]
    },
    {
      "cell_type": "markdown",
      "metadata": {
        "id": "bkVjJHQzVDAN",
        "colab_type": "text"
      },
      "source": [
        "Now, let's continue with kNN:"
      ]
    },
    {
      "cell_type": "code",
      "metadata": {
        "id": "xvGitTsrVDAO",
        "colab_type": "code",
        "colab": {},
        "outputId": "a7a0a78f-0a7a-492e-ea69-d002d7eb087d"
      },
      "source": [
        "list_of_predictions_knn = list()\n",
        "list_of_test_results_knn = list()\n",
        "list_of_train_results_knn = list()\n",
        "\n",
        "for i in range(1, 101):\n",
        "    knn = KNeighborsClassifier(n_neighbors=i)\n",
        "    knn.fit(X_train, y_train)\n",
        "    list_of_predictions_knn.append(knn.predict(X_train))\n",
        "    list_of_test_results_knn.append(knn.score(X_test, y_test))\n",
        "    list_of_train_results_knn.append(knn.score(X_train, y_train))\n",
        "    if i % 20 == 0:\n",
        "        print(\"Predicted with \", i, \" neighbours\")"
      ],
      "execution_count": 0,
      "outputs": [
        {
          "output_type": "stream",
          "text": [
            "Predicted with  20  neighbours\n"
          ],
          "name": "stdout"
        },
        {
          "output_type": "stream",
          "text": [
            "Predicted with  40  neighbours\n"
          ],
          "name": "stdout"
        },
        {
          "output_type": "stream",
          "text": [
            "Predicted with  60  neighbours\n"
          ],
          "name": "stdout"
        },
        {
          "output_type": "stream",
          "text": [
            "Predicted with  80  neighbours\n"
          ],
          "name": "stdout"
        },
        {
          "output_type": "stream",
          "text": [
            "Predicted with  100  neighbours\n"
          ],
          "name": "stdout"
        }
      ]
    },
    {
      "cell_type": "code",
      "metadata": {
        "id": "Nr7iGrUEVDAS",
        "colab_type": "code",
        "colab": {},
        "outputId": "09e86f6d-6d7d-4e91-e9d5-152906a51684"
      },
      "source": [
        "print(\"Max test result: \", max(list_of_test_results_knn), \n",
        "      \" takes \", (list_of_test_results_knn.index(max(list_of_test_results_knn))+1), \" trees\")\n",
        "\n",
        "plt.scatter(x=list((range(1, 101))), y=list_of_test_results_knn)"
      ],
      "execution_count": 0,
      "outputs": [
        {
          "output_type": "stream",
          "text": [
            "Max test result:  0.9433333333333334  takes  98  trees\n"
          ],
          "name": "stdout"
        },
        {
          "output_type": "execute_result",
          "data": {
            "text/plain": [
              "<matplotlib.collections.PathCollection at 0x1089261d0>"
            ]
          },
          "metadata": {
            "tags": []
          },
          "execution_count": 122
        },
        {
          "output_type": "display_data",
          "data": {
            "image/png": "[encoded data removed]",
            "text/plain": [
              "<matplotlib.figure.Figure at 0x1088bbe10>"
            ]
          },
          "metadata": {
            "tags": []
          }
        }
      ]
    },
    {
      "cell_type": "markdown",
      "metadata": {
        "id": "-4G1ftl_VDAW",
        "colab_type": "text"
      },
      "source": [
        "Next classifier we'll try to use is Logistic Regression:"
      ]
    },
    {
      "cell_type": "code",
      "metadata": {
        "id": "oh-EUkzzVDAY",
        "colab_type": "code",
        "colab": {},
        "outputId": "0a716f91-c5cc-43ca-c01e-b7b143efef85"
      },
      "source": [
        "logistic_model = LogisticRegression()\n",
        "\n",
        "logistic_model.fit(X_train, y_train)\n",
        "\n",
        "prediction = logistic_model.predict(X_test)\n",
        "\n",
        "#print(\"Test result:\", logistic_model.score(X_test, y_test))\n",
        "\n",
        "print(\"Train result:\", logistic_model.score(X_train, y_train))\n",
        "\n",
        "print(\"Accuracy:\", accuracy_score(y_test, prediction))\n",
        "\n",
        "print(\"AUC-ROC:\", roc_auc_score(y_test, prediction))\n",
        "\n",
        "print(\"######################################################\")\n",
        "logistic_model_proba = LogisticRegression()\n",
        "\n",
        "logistic_model_proba.fit(X_train, y_train)\n",
        "\n",
        "prediction_proba = logistic_model.predict_proba(X_test)\n",
        "\n",
        "\n",
        "# Now let's create the ROC-curve and PR-curve to represent our model\n",
        "plt.xlabel(\"False Positive Rate\")\n",
        "plt.ylabel(\"True Positive Rate\")\n",
        "fpr, tpr, _ = roc_curve(y_test, prediction)\n",
        "acc = logistic_model.score(X_test, y_test)\n",
        "auc = roc_auc_score(y_test, prediction)\n",
        "plt.plot(fpr, tpr, label=\"acc:%.2f auc:%.2f\" % (acc, auc), linewidth=3)\n",
        "plt.legend(loc=\"best\")\n",
        "\n",
        "precision, recall, thresholds = precision_recall_curve(y_test, prediction_proba[:, 1])\n",
        "\n",
        "plt.plot(fpr, tpr)\n",
        "\n",
        "plt.plot(recall, precision)"
      ],
      "execution_count": 0,
      "outputs": [
        {
          "output_type": "stream",
          "text": [
            "Train result: 0.9935714285714285\n",
            "Accuracy: 0.9883333333333333\n",
            "AUC-ROC: 0.9884690191719923\n",
            "######################################################\n"
          ],
          "name": "stdout"
        },
        {
          "output_type": "execute_result",
          "data": {
            "text/plain": [
              "[<matplotlib.lines.Line2D at 0x107b8e0f0>]"
            ]
          },
          "metadata": {
            "tags": []
          },
          "execution_count": 123
        },
        {
          "output_type": "display_data",
          "data": {
            "image/png": "[encoded data removed]",
            "text/plain": [
              "<matplotlib.figure.Figure at 0x1090d05c0>"
            ]
          },
          "metadata": {
            "tags": []
          }
        }
      ]
    },
    {
      "cell_type": "markdown",
      "metadata": {
        "id": "57P7Ge_gVDAc",
        "colab_type": "text"
      },
      "source": [
        "Next step we'll take is DecisionTree model:"
      ]
    },
    {
      "cell_type": "code",
      "metadata": {
        "id": "AbSrFkaJVDAd",
        "colab_type": "code",
        "colab": {},
        "outputId": "707c8ce9-7951-43fd-e138-cdd403a382cb"
      },
      "source": [
        "decision_tree = DecisionTreeClassifier(random_state=divide_seed)\n",
        "\n",
        "decision_tree.fit(X_train, y_train)\n",
        "\n",
        "prediction_tree = decision_tree.predict(X_test)\n",
        "\n",
        "print(\"Test result (accuracy):\", decision_tree.score(X_test, y_test))\n",
        "\n",
        "print(\"Accuracy:\", accuracy_score(y_test, prediction_tree))\n",
        "\n",
        "auc_roc_tree = roc_auc_score(y_test, prediction_tree)\n",
        "\n",
        "print(\"AUC-ROC:\", auc_roc_tree)\n",
        "\n",
        "print(\"######################################################\")\n",
        "decision_tree_proba = DecisionTreeClassifier(random_state=divide_seed)\n",
        "\n",
        "decision_tree_proba.fit(X_train, y_train)\n",
        "\n",
        "prediction_tree_proba = decision_tree_proba.predict_proba(X_test)[:, 1]\n",
        "\n",
        "print(\"Accuracy:\", accuracy_score(y_test, prediction_tree_proba > 0.5))\n",
        "\n",
        "auc_roc_tree = roc_auc_score(y_test, prediction_tree_proba)\n",
        "\n",
        "print(\"AUC-ROC:\", auc_roc_tree)"
      ],
      "execution_count": 0,
      "outputs": [
        {
          "output_type": "stream",
          "text": [
            "Test result (accuracy): 0.935\n",
            "Accuracy: 0.935\n",
            "AUC-ROC: 0.9353431508752431\n",
            "######################################################\n",
            "Accuracy: 0.935\n",
            "AUC-ROC: 0.9353431508752431\n"
          ],
          "name": "stdout"
        }
      ]
    },
    {
      "cell_type": "markdown",
      "metadata": {
        "id": "hK29_rMcVDAh",
        "colab_type": "text"
      },
      "source": [
        "This accuracy is not enough to accept this decision tree model, so, let's use bagging to try to improve it."
      ]
    },
    {
      "cell_type": "code",
      "metadata": {
        "id": "mo6bbpDeVDAi",
        "colab_type": "code",
        "colab": {},
        "outputId": "d6bd9460-0657-48d0-e884-a9984b5b51ed"
      },
      "source": [
        "bagging = BaggingClassifier(base_estimator=DecisionTreeClassifier(random_state=divide_seed), n_estimators=100)\n",
        "\n",
        "bagging.fit(X_train, y_train)\n",
        "\n",
        "prediction_bagging = bagging.predict(X_test)\n",
        "\n",
        "#print(\"Test result:\", bagging.score(X_test, y_test))\n",
        "\n",
        "#print(\"Train result:\", bagging.score(X_train, y_train))\n",
        "\n",
        "#print(\"Accuracy:\", accuracy_score(y_test, prediction_bagging))\n",
        "\n",
        "auc_roc_tree = roc_auc_score(y_test, prediction_bagging)\n",
        "\n",
        "print(\"######################################################\")\n",
        "bagging_proba = BaggingClassifier(base_estimator=DecisionTreeClassifier(random_state=divide_seed), n_estimators=100)\n",
        "\n",
        "bagging_proba.fit(X_train, y_train)\n",
        "\n",
        "prediction_bagging_proba = bagging_proba.predict_proba(X_test)[:, 1]\n",
        "\n",
        "print(\"Accuracy:\", accuracy_score(y_test, prediction_bagging_proba > 0.5))\n",
        "\n",
        "auc_roc_tree = roc_auc_score(y_test, prediction_bagging_proba)\n",
        "\n",
        "print(\"AUC-ROC:\", auc_roc_tree)"
      ],
      "execution_count": 0,
      "outputs": [
        {
          "output_type": "stream",
          "text": [
            "######################################################\n"
          ],
          "name": "stdout"
        },
        {
          "output_type": "stream",
          "text": [
            "Accuracy: 0.95\n",
            "AUC-ROC: 0.9943262017227008\n"
          ],
          "name": "stdout"
        }
      ]
    },
    {
      "cell_type": "markdown",
      "metadata": {
        "id": "MmkPu22xVDAm",
        "colab_type": "text"
      },
      "source": [
        "As we can see, it worked, AUC-ROC metric gives us now 99,4%. \n",
        "\n",
        "But let's continue and bootstrap our sample:"
      ]
    },
    {
      "cell_type": "code",
      "metadata": {
        "id": "vwJsfjuPVDAn",
        "colab_type": "code",
        "colab": {},
        "outputId": "6c3b8426-bde8-4cc0-b7bc-a49e256f8981"
      },
      "source": [
        "new_predicted_tree = 0\n",
        "new_predicted_tree_proba = np.zeros(X_test.shape[0])\n",
        "\n",
        "\n",
        "for k in range(0, 100):\n",
        "    i_new = np.random.randint(0, X_train.shape[0], int(2000*0.7))\n",
        "    tree_class = DecisionTreeClassifier()\n",
        "    \n",
        "    tree_class.fit(X_train[i_new], array(y_train)[i_new])\n",
        "    \n",
        "    new_predicted_tree_proba += tree_class.predict_proba(X_test)[:, 1]\n",
        "    \n",
        "    new_predicted_tree += tree_class.predict(X_test)\n",
        "    new_predicted_tree = np.divide(new_predicted_tree, 100).astype('int8')\n",
        "    \n",
        "new_predicted_tree_proba = new_predicted_tree_proba / 100\n",
        "    \n",
        "\n",
        "print(\"Accuracy:\", accuracy_score(y_test, new_predicted_tree_proba > 0.5))\n",
        "print(\"ROC-AUC:\", roc_auc_score(y_test, new_predicted_tree_proba))"
      ],
      "execution_count": 0,
      "outputs": [
        {
          "output_type": "stream",
          "text": [
            "Accuracy: 0.9566666666666667\n",
            "ROC-AUC: 0.9949041400388998\n"
          ],
          "name": "stdout"
        }
      ]
    },
    {
      "cell_type": "markdown",
      "metadata": {
        "id": "76w4iut0VDAr",
        "colab_type": "text"
      },
      "source": [
        "Comparable, but still bit worse than Bagging\n",
        "\n",
        "Let's try RandomForestClassifier with different number of trees:"
      ]
    },
    {
      "cell_type": "code",
      "metadata": {
        "id": "9_qhey6DVDAs",
        "colab_type": "code",
        "colab": {},
        "outputId": "c519d9f8-8d56-44da-e65a-81fd8ecc0370"
      },
      "source": [
        "test_forest_results = list()\n",
        "train_forest_results = list()\n",
        "accuracy_forest_results = list()\n",
        "auc_roc_forest_results = list()\n",
        "time_list = list()\n",
        "\n",
        "accuracy_forest_results_proba = list()\n",
        "auc_roc_forest_results_proba = list()\n",
        "\n",
        "start = time.time()\n",
        "cur_time = start\n",
        "\n",
        "for j in range(10, 1010, 10):\n",
        "    \n",
        "    decision_forest = RandomForestClassifier(random_state=divide_seed, n_estimators=j)\n",
        "    decision_forest_proba = RandomForestClassifier(random_state=divide_seed, n_estimators=j)\n",
        "\n",
        "    decision_forest.fit(X_train, y_train)\n",
        "    \n",
        "    decision_forest_proba.fit(X_train, y_train)\n",
        "\n",
        "    prediction_forest = decision_forest.predict(X_test)\n",
        "    \n",
        "    prediction_forest_pr = decision_forest_proba.predict_proba(X_test)[:, 1]\n",
        "\n",
        "    test_forest_results.append(decision_forest.score(X_test, y_test))\n",
        "\n",
        "    train_forest_results.append(decision_forest.score(X_train, y_train))\n",
        "\n",
        "    accuracy_forest_results.append(accuracy_score(y_test, prediction_forest))\n",
        "    \n",
        "    accuracy_forest_results_proba.append(accuracy_score(y_test, prediction_forest_pr > 0.5))\n",
        "\n",
        "    auc_roc_forest = roc_auc_score(y_test, prediction_forest)\n",
        "\n",
        "    auc_roc_forest_results.append(auc_roc_forest)\n",
        "    auc_roc_forest_results_proba.append(roc_auc_score(y_test, prediction_forest_pr))\n",
        "    if j % 50 == 0:\n",
        "        cur_time = time.time() - cur_time\n",
        "        if j % 100 != 0:\n",
        "            time_list.append(cur_time)\n",
        "            print('Number of trees:', j)\n",
        "            print(\"Prediction completed by\", j/10, \"%\")\n",
        "            print(\"Took \", cur_time, \" seconds\")\n",
        "            print(\"--------------------\")\n",
        "print(\"Prediction completed by 100%\")\n",
        "finish = time.time() - start\n",
        "\n",
        "print(\"Prediction took \", finish, \" seconds\")"
      ],
      "execution_count": 0,
      "outputs": [
        {
          "output_type": "stream",
          "text": [
            "Number of trees: 50\n",
            "Prediction completed by 5.0 %\n",
            "Took  1.2758619785308838  seconds\n",
            "--------------------\n"
          ],
          "name": "stdout"
        },
        {
          "output_type": "stream",
          "text": [
            "Number of trees: 150\n",
            "Prediction completed by 15.0 %\n",
            "Took  7.614757061004639  seconds\n",
            "--------------------\n"
          ],
          "name": "stdout"
        },
        {
          "output_type": "stream",
          "text": [
            "Number of trees: 250\n",
            "Prediction completed by 25.0 %\n",
            "Took  16.16055393218994  seconds\n",
            "--------------------\n"
          ],
          "name": "stdout"
        },
        {
          "output_type": "stream",
          "text": [
            "Number of trees: 350\n",
            "Prediction completed by 35.0 %\n",
            "Took  27.431073904037476  seconds\n",
            "--------------------\n"
          ],
          "name": "stdout"
        },
        {
          "output_type": "stream",
          "text": [
            "Number of trees: 450\n",
            "Prediction completed by 45.0 %\n",
            "Took  44.8307318687439  seconds\n",
            "--------------------\n"
          ],
          "name": "stdout"
        },
        {
          "output_type": "stream",
          "text": [
            "Number of trees: 550\n",
            "Prediction completed by 55.0 %\n",
            "Took  62.628031730651855  seconds\n",
            "--------------------\n"
          ],
          "name": "stdout"
        },
        {
          "output_type": "stream",
          "text": [
            "Number of trees: 650\n",
            "Prediction completed by 65.0 %\n",
            "Took  86.37826180458069  seconds\n",
            "--------------------\n"
          ],
          "name": "stdout"
        },
        {
          "output_type": "stream",
          "text": [
            "Number of trees: 750\n",
            "Prediction completed by 75.0 %\n",
            "Took  110.00433278083801  seconds\n",
            "--------------------\n"
          ],
          "name": "stdout"
        },
        {
          "output_type": "stream",
          "text": [
            "Number of trees: 850\n",
            "Prediction completed by 85.0 %\n",
            "Took  139.39479279518127  seconds\n",
            "--------------------\n"
          ],
          "name": "stdout"
        },
        {
          "output_type": "stream",
          "text": [
            "Number of trees: 950\n",
            "Prediction completed by 95.0 %\n",
            "Took  170.40877389907837  seconds\n",
            "--------------------\n"
          ],
          "name": "stdout"
        },
        {
          "output_type": "stream",
          "text": [
            "Prediction completed by 100%\n",
            "Prediction took  351.4564559459686  seconds\n"
          ],
          "name": "stdout"
        }
      ]
    },
    {
      "cell_type": "code",
      "metadata": {
        "id": "iFoJm52TVDAw",
        "colab_type": "code",
        "colab": {},
        "outputId": "501f37ab-cc13-4f53-bd0f-96b6b0e58a7b"
      },
      "source": [
        "print(\"Max test result: \", max(test_forest_results), \" takes \", (test_forest_results.index(max(test_forest_results))+1)*10, \" trees\")\n",
        "\n",
        "print(\"Max accuracy result: \", max(accuracy_forest_results), \" takes \", (accuracy_forest_results.index(max(accuracy_forest_results))+1)*10, \" trees\")\n",
        "\n",
        "print(\"Max auc-roc result: \", max(auc_roc_forest_results), \" takes \", (auc_roc_forest_results.index(max(auc_roc_forest_results))+1)*10, \" trees\")\n",
        "\n",
        "print(\"Max accuracy result with proba: \", max(accuracy_forest_results_proba), \" takes \", (accuracy_forest_results.index(max(accuracy_forest_results))+1)*10, \" trees\")\n",
        "\n",
        "print(\"Max auc-roc result with proba: \", max(auc_roc_forest_results_proba), \" takes \", (auc_roc_forest_results.index(max(auc_roc_forest_results))+1)*10, \" trees\")\n",
        "\n",
        "\n",
        "plt.scatter(x=list((range(1, 101))), y=auc_roc_forest_results)\n",
        "\n",
        "plt.scatter(x=list((range(1, 101))), y=auc_roc_forest_results_proba)\n",
        "plt.show()\n",
        "\n",
        "print(\"Time taken via number of trees:\")\n",
        "plt.scatter(x=list(range(0, 10)), y=time_list)\n",
        "plt.show()"
      ],
      "execution_count": 0,
      "outputs": [
        {
          "output_type": "stream",
          "text": [
            "Max test result:  0.9583333333333334  takes  80  trees\n",
            "Max accuracy result:  0.9583333333333334  takes  80  trees\n",
            "Max auc-roc result:  0.9585162545151431  takes  80  trees\n",
            "Max accuracy result with proba:  0.9583333333333334  takes  80  trees\n",
            "Max auc-roc result with proba:  0.9944873575993332  takes  80  trees\n"
          ],
          "name": "stdout"
        },
        {
          "output_type": "display_data",
          "data": {
            "image/png": "[encoded data removed]",
            "text/plain": [
              "<matplotlib.figure.Figure at 0x10dd62b70>"
            ]
          },
          "metadata": {
            "tags": []
          }
        },
        {
          "output_type": "stream",
          "text": [
            "Time taken via number of trees:\n"
          ],
          "name": "stdout"
        },
        {
          "output_type": "display_data",
          "data": {
            "image/png": "[encoded data removed]",
            "text/plain": [
              "<matplotlib.figure.Figure at 0x10fbb9160>"
            ]
          },
          "metadata": {
            "tags": []
          }
        }
      ]
    },
    {
      "cell_type": "markdown",
      "metadata": {
        "id": "bLl96S9JVDA3",
        "colab_type": "text"
      },
      "source": [
        "Finally, let's take a look at which features were most important in our model:"
      ]
    },
    {
      "cell_type": "code",
      "metadata": {
        "id": "JJPcHUsVVDA4",
        "colab_type": "code",
        "colab": {},
        "outputId": "ec088c2d-3b76-47dd-c15a-592c2a6b5de0"
      },
      "source": [
        "importances = list(decision_forest.feature_importances_)\n",
        "\n",
        "number = list(range(0, 20, 1))\n",
        "\n",
        "print(decision_forest.feature_importances_)\n",
        "\n",
        "plt.scatter(x=number, y=importances)"
      ],
      "execution_count": 0,
      "outputs": [
        {
          "output_type": "stream",
          "text": [
            "[0.05850186 0.00411376 0.01727769 0.00385603 0.01461809 0.00332405\n",
            " 0.02125491 0.01355367 0.02396303 0.01379781 0.01736666 0.03979694\n",
            " 0.04190182 0.66625681 0.01590934 0.01695625 0.01686919 0.00290452\n",
            " 0.0042117  0.00356585]\n"
          ],
          "name": "stdout"
        },
        {
          "output_type": "execute_result",
          "data": {
            "text/plain": [
              "<matplotlib.collections.PathCollection at 0x110901358>"
            ]
          },
          "metadata": {
            "tags": []
          },
          "execution_count": 129
        },
        {
          "output_type": "display_data",
          "data": {
            "image/png": "[encoded data removed]",
            "text/plain": [
              "<matplotlib.figure.Figure at 0x110096f98>"
            ]
          },
          "metadata": {
            "tags": []
          }
        }
      ]
    },
    {
      "cell_type": "markdown",
      "metadata": {
        "id": "TY1vy5u9VDA8",
        "colab_type": "text"
      },
      "source": [
        "As we can see, 14th feature is much more important than others, so it dominates and helps us build better models."
      ]
    }
  ]
}