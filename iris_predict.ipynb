{
  "nbformat": 4,
  "nbformat_minor": 0,
  "metadata": {
    "colab": {
      "name": "iris_predict.ipynb",
      "provenance": [],
      "include_colab_link": true
    },
    "kernelspec": {
      "name": "python3",
      "display_name": "Python 3"
    }
  },
  "cells": [
    {
      "cell_type": "markdown",
      "metadata": {
        "id": "view-in-github",
        "colab_type": "text"
      },
      "source": [
        "<a href=\"https://colab.research.google.com/github/vinayak2709/machine-Learning/blob/master/iris_predict.ipynb\" target=\"_parent\"><img src=\"https://colab.research.google.com/assets/colab-badge.svg\" alt=\"Open In Colab\"/></a>"
      ]
    },
    {
      "cell_type": "code",
      "metadata": {
        "id": "FZVLt69fZZnd",
        "colab_type": "code",
        "outputId": "c228b794-f6c6-4b76-e826-30e04d80c283",
        "colab": {
          "base_uri": "https://localhost:8080/",
          "height": 68
        }
      },
      "source": [
        "# load the iris dataset as an example \n",
        "from sklearn.datasets import load_iris \n",
        "iris = load_iris() \n",
        "\n",
        "# store the feature matrix (X) and response vector (y) \n",
        "X = iris.data \n",
        "y = iris.target \n",
        "\n",
        "# splitting X and y into training and testing sets \n",
        "from sklearn.model_selection import train_test_split \n",
        "X_train, X_test, y_train, y_test = train_test_split(X, y, test_size=0.2, random_state=1) \n",
        "\n",
        "# training the model on training set \n",
        "from sklearn.neighbors import KNeighborsClassifier \n",
        "knn = KNeighborsClassifier(n_neighbors=3) \n",
        "knn.fit(X_train, y_train) \n",
        "\n",
        "# making predictions on the testing set \n",
        "y_pred = knn.predict(X_test) \n",
        "\n",
        "# comparing actual response values (y_test) with predicted response values (y_pred) \n",
        "from sklearn import metrics \n",
        "print(\"kNN model accuracy:\", metrics.accuracy_score(y_test, y_pred)) \n",
        "\n",
        "# making prediction for out of sample data \n",
        "sample = [[3, 5, 4, 2], [2, 3, 5, 4]] \n",
        "preds = knn.predict(sample) \n",
        "pred_species = [iris.target_names[p] for p in preds] \n",
        "print(\"Predictions:\", pred_species) \n",
        "\n",
        "# saving the model \n",
        "from sklearn.externals import joblib \n",
        "joblib.dump(knn, 'iris_knn.pkl')\n"
      ],
      "execution_count": 0,
      "outputs": [
        {
          "output_type": "stream",
          "text": [
            "kNN model accuracy: 1.0\n",
            "Predictions: ['versicolor', 'virginica']\n"
          ],
          "name": "stdout"
        },
        {
          "output_type": "execute_result",
          "data": {
            "text/plain": [
              "['iris_knn.pkl']"
            ]
          },
          "metadata": {
            "tags": []
          },
          "execution_count": 15
        }
      ]
    }
  ]
}