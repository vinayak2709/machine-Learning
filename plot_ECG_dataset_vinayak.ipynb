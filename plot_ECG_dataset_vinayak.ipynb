{
  "nbformat": 4,
  "nbformat_minor": 0,
  "metadata": {
    "colab": {
      "name": "plot_ECG_dataset_vinayak.ipynb",
      "version": "0.3.2",
      "provenance": [],
      "include_colab_link": true
    },
    "kernelspec": {
      "name": "python3",
      "display_name": "Python 3"
    }
  },
  "cells": [
    {
      "cell_type": "markdown",
      "metadata": {
        "id": "view-in-github",
        "colab_type": "text"
      },
      "source": [
        "<a href=\"https://colab.research.google.com/github/vinayak2709/machine-Learning/blob/master/plot_ECG_dataset_vinayak.ipynb\" target=\"_parent\"><img src=\"https://colab.research.google.com/assets/colab-badge.svg\" alt=\"Open In Colab\"/></a>"
      ]
    },
    {
      "cell_type": "code",
      "metadata": {
        "id": "20iCta81X2Ln",
        "colab_type": "code",
        "colab": {}
      },
      "source": [
        "import matplotlib.pyplot as plt\n",
        "import numpy as np\n",
        "import pandas as pd\n",
        "y = pd.read_csv('f0.txt')              # reading dataset \n",
        "x = np.linspace( 0, 5.8, 5.8*500)      # 1sec =500 values so 5.8 sec =>5.8*500 values\n",
        "\n",
        "temp=y.shape                           # creating temp var for rearranging data\n",
        "\n",
        "x=x[0:temp[0]]                          # making x now of row exactly same as no of rows of temp i.e of y \n",
        "plt.axis([0, 5.8, -1, 1])               #  specifying min max values of x axis and y axis\n",
        "plt.plot(x,y)\n",
        "plt.show()\n",
        "\n"
      ],
      "execution_count": 0,
      "outputs": []
    }
  ]
}